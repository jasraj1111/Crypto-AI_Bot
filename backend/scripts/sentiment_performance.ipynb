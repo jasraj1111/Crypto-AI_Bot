{
 "cells": [
  {
   "cell_type": "code",
   "execution_count": 1,
   "id": "9f8ae11b",
   "metadata": {},
   "outputs": [],
   "source": [
    "import pandas as pd\n",
    "from sklearn.metrics import classification_report"
   ]
  },
  {
   "cell_type": "code",
   "execution_count": 2,
   "id": "b75b593f",
   "metadata": {},
   "outputs": [
    {
     "name": "stdout",
     "output_type": "stream",
     "text": [
      "📊 Comparing Custom Logic vs VADER Thresholds\n",
      "• Precision: 0.89\n",
      "• Recall: 0.50\n",
      "• F1-Score: 0.63\n"
     ]
    },
    {
     "name": "stderr",
     "output_type": "stream",
     "text": [
      "c:\\Users\\jasra\\AppData\\Local\\Programs\\Python\\Python311\\Lib\\site-packages\\sklearn\\metrics\\_classification.py:1531: UndefinedMetricWarning: Recall is ill-defined and being set to 0.0 in labels with no true samples. Use `zero_division` parameter to control this behavior.\n",
      "  _warn_prf(average, modifier, f\"{metric.capitalize()} is\", len(result))\n",
      "c:\\Users\\jasra\\AppData\\Local\\Programs\\Python\\Python311\\Lib\\site-packages\\sklearn\\metrics\\_classification.py:1531: UndefinedMetricWarning: Recall is ill-defined and being set to 0.0 in labels with no true samples. Use `zero_division` parameter to control this behavior.\n",
      "  _warn_prf(average, modifier, f\"{metric.capitalize()} is\", len(result))\n",
      "c:\\Users\\jasra\\AppData\\Local\\Programs\\Python\\Python311\\Lib\\site-packages\\sklearn\\metrics\\_classification.py:1531: UndefinedMetricWarning: Recall is ill-defined and being set to 0.0 in labels with no true samples. Use `zero_division` parameter to control this behavior.\n",
      "  _warn_prf(average, modifier, f\"{metric.capitalize()} is\", len(result))\n"
     ]
    }
   ],
   "source": [
    "# Load your processed sentiment file\n",
    "df = pd.read_csv(\"data/reddit_sentiment.csv\")\n",
    "\n",
    "# Recalculate \"pure\" VADER-based label (ignoring upvotes)\n",
    "# Define standard thresholds\n",
    "def vader_label(score):\n",
    "    if score >= 0.05:\n",
    "        return \"bullish\"\n",
    "    elif score <= -0.05:\n",
    "        return \"bearish\"\n",
    "    else:\n",
    "        return \"neutral\"\n",
    "\n",
    "# Create a predicted label based on compound score only\n",
    "df[\"vader_label\"] = df[\"sentiment_score\"].apply(vader_label)\n",
    "\n",
    "# Now compare: sentiment_label (your custom logic) vs vader_label (pure score)\n",
    "print(\"📊 Comparing Custom Logic vs VADER Thresholds\")\n",
    "report = classification_report(df[\"sentiment_label\"], df[\"vader_label\"], output_dict=True)\n",
    "print(f\"• Precision: {report['weighted avg']['precision']:.2f}\")\n",
    "print(f\"• Recall: {report['weighted avg']['recall']:.2f}\")\n",
    "print(f\"• F1-Score: {report['weighted avg']['f1-score']:.2f}\")"
   ]
  },
  {
   "cell_type": "code",
   "execution_count": null,
   "id": "ab8c7604",
   "metadata": {},
   "outputs": [],
   "source": []
  }
 ],
 "metadata": {
  "kernelspec": {
   "display_name": "Python 3",
   "language": "python",
   "name": "python3"
  },
  "language_info": {
   "codemirror_mode": {
    "name": "ipython",
    "version": 3
   },
   "file_extension": ".py",
   "mimetype": "text/x-python",
   "name": "python",
   "nbconvert_exporter": "python",
   "pygments_lexer": "ipython3",
   "version": "3.11.4"
  }
 },
 "nbformat": 4,
 "nbformat_minor": 5
}
